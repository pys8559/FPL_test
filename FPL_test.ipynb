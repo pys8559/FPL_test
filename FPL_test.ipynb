{
 "cells": [
  {
   "cell_type": "code",
   "execution_count": 5,
   "id": "91527241",
   "metadata": {},
   "outputs": [],
   "source": [
    "from sklearn.svm import SVC\n",
    "import numpy as np\n",
    "import pandas as pd\n",
    "import matplotlib.pyplot as plt\n",
    "from sklearn.preprocessing import MinMaxScaler\n",
    "from sklearn.model_selection import train_test_split\n",
    "from sklearn import metrics\n",
    "import joblib\n",
    "import streamlit as st"
   ]
  },
  {
   "cell_type": "code",
   "execution_count": 6,
   "id": "482e6eb0",
   "metadata": {},
   "outputs": [
    {
     "name": "stderr",
     "output_type": "stream",
     "text": [
      "2024-03-06 16:00:41.177 \n",
      "  \u001b[33m\u001b[1mWarning:\u001b[0m to view this Streamlit app on a browser, run it with the following\n",
      "  command:\n",
      "\n",
      "    streamlit run C:\\Users\\pys85_6\\anaconda3\\lib\\site-packages\\ipykernel_launcher.py [ARGUMENTS]\n"
     ]
    }
   ],
   "source": [
    "st.header('Artificial Intelligence Prediction of US wheat variety')\n",
    "\n",
    "st.write('made by Sejong Univ.')\n",
    "\n",
    "st.write(' ')\n",
    "\n",
    "st.write('(밀가루 특성을 토대로 미국 밀가루의 품종 예측)')\n",
    "\n",
    "\n",
    "\n",
    "uploaded_file = st.file_uploader(\"Choose an excel file\", type=\"xlsx\")\n",
    "\n",
    "\n",
    "\n",
    "if uploaded_file:\n",
    "\n",
    "    df1 = pd.read_excel(uploaded_file)\n",
    "\n",
    "    st.write('[입력 데이터] ')\n",
    "\n",
    "    st.dataframe(df1)\n",
    "\n",
    "    new_sample1 = df1.drop([\"Year\", \"Variety\", \"Volume\"], axis = 1)\n",
    "\n",
    "     \n",
    "\n",
    "    df_train = pd.read_excel(\"US wheat-dataset-sample.xlsx\", header = 0)\n",
    "\n",
    "    df_train1 = df_train.drop([\"Year\", \"Variety\", \"Volume\"], axis = 1)\n",
    "\n",
    "    scaler = MinMaxScaler()\n",
    "\n",
    "    df_train1_normal = scaler.fit_transform(df_train1.values)\n",
    "\n",
    "\n",
    "\n",
    "    model1 = joblib.load('wheat_svc.pkl') \n",
    "\n",
    "    \n",
    "\n",
    "    new_x_data = scaler.transform(new_sample1.values)    \n",
    "\n",
    "    \n",
    "\n",
    "    result = model1.predict(new_x_data)\n",
    "\n",
    "    \n",
    "\n",
    "#    new_normal[0][30] = result[0]\n",
    "\n",
    "#    pred = scaler.inverse_transform(new_normal)\n",
    "\n",
    "\n",
    "\n",
    "    st.write(' ')\n",
    "\n",
    "    st.write('[결과] ')\n",
    "\n",
    "    st.write('예측되는 품종', result[0])\n",
    "\n",
    "    st.write(' ')"
   ]
  },
  {
   "cell_type": "code",
   "execution_count": null,
   "id": "97de784d",
   "metadata": {},
   "outputs": [],
   "source": []
  },
  {
   "cell_type": "code",
   "execution_count": null,
   "id": "aac76174",
   "metadata": {},
   "outputs": [],
   "source": []
  }
 ],
 "metadata": {
  "kernelspec": {
   "display_name": "Python 3 (ipykernel)",
   "language": "python",
   "name": "python3"
  },
  "language_info": {
   "codemirror_mode": {
    "name": "ipython",
    "version": 3
   },
   "file_extension": ".py",
   "mimetype": "text/x-python",
   "name": "python",
   "nbconvert_exporter": "python",
   "pygments_lexer": "ipython3",
   "version": "3.7.15"
  }
 },
 "nbformat": 4,
 "nbformat_minor": 5
}
